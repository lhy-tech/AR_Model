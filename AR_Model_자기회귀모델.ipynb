{
  "nbformat": 4,
  "nbformat_minor": 0,
  "metadata": {
    "colab": {
      "name": "AR_Model_자기회귀모델.ipynb",
      "provenance": []
    },
    "kernelspec": {
      "name": "python3",
      "display_name": "Python 3"
    },
    "language_info": {
      "name": "python"
    }
  },
  "cells": [
    {
      "cell_type": "code",
      "metadata": {
        "id": "CaL3g83X270J"
      },
      "source": [
        "import pandas as pd"
      ],
      "execution_count": 1,
      "outputs": []
    },
    {
      "cell_type": "code",
      "metadata": {
        "id": "1VdOlY3b3gqX"
      },
      "source": [
        "df = pd.read_csv(\"hare.dat\")"
      ],
      "execution_count": 2,
      "outputs": []
    },
    {
      "cell_type": "code",
      "metadata": {
        "id": "bHE-81XX3qZS"
      },
      "source": [
        "df"
      ],
      "execution_count": null,
      "outputs": []
    },
    {
      "cell_type": "code",
      "metadata": {
        "id": "XKN79vKT3rPH"
      },
      "source": [
        "pd.date_range(\"1905\", \"1935\", freq = \"AS\")\n",
        "df.index = pd.date_range(\"1905\", \"1935\", freq = \"AS\")"
      ],
      "execution_count": 4,
      "outputs": []
    },
    {
      "cell_type": "code",
      "metadata": {
        "id": "FLU38kr94tTT"
      },
      "source": [
        "df[\"pred\"] = 0"
      ],
      "execution_count": 5,
      "outputs": []
    },
    {
      "cell_type": "code",
      "metadata": {
        "id": "kAOoVXG14zJY"
      },
      "source": [
        "df"
      ],
      "execution_count": null,
      "outputs": []
    },
    {
      "cell_type": "code",
      "metadata": {
        "id": "tsWyrpWW6cxC"
      },
      "source": [
        "df.loc[: '1925-01-01',\"hare\"]"
      ],
      "execution_count": null,
      "outputs": []
    },
    {
      "cell_type": "code",
      "metadata": {
        "id": "iae2qTtU6iMG"
      },
      "source": [
        "df.loc[ : \"1925-01-01\", \"pred\"] = df.loc[: '1925-01-01',\"hare\"]"
      ],
      "execution_count": 8,
      "outputs": []
    },
    {
      "cell_type": "code",
      "metadata": {
        "colab": {
          "base_uri": "https://localhost:8080/",
          "height": 1000
        },
        "id": "uM068DG16kiK",
        "outputId": "6d96a9af-a9b6-4ccb-c6b9-169c7de4dc7d"
      },
      "source": [
        "df"
      ],
      "execution_count": 9,
      "outputs": [
        {
          "output_type": "execute_result",
          "data": {
            "text/html": [
              "<div>\n",
              "<style scoped>\n",
              "    .dataframe tbody tr th:only-of-type {\n",
              "        vertical-align: middle;\n",
              "    }\n",
              "\n",
              "    .dataframe tbody tr th {\n",
              "        vertical-align: top;\n",
              "    }\n",
              "\n",
              "    .dataframe thead th {\n",
              "        text-align: right;\n",
              "    }\n",
              "</style>\n",
              "<table border=\"1\" class=\"dataframe\">\n",
              "  <thead>\n",
              "    <tr style=\"text-align: right;\">\n",
              "      <th></th>\n",
              "      <th>hare</th>\n",
              "      <th>pred</th>\n",
              "    </tr>\n",
              "  </thead>\n",
              "  <tbody>\n",
              "    <tr>\n",
              "      <th>1905-01-01</th>\n",
              "      <td>50</td>\n",
              "      <td>50</td>\n",
              "    </tr>\n",
              "    <tr>\n",
              "      <th>1906-01-01</th>\n",
              "      <td>20</td>\n",
              "      <td>20</td>\n",
              "    </tr>\n",
              "    <tr>\n",
              "      <th>1907-01-01</th>\n",
              "      <td>20</td>\n",
              "      <td>20</td>\n",
              "    </tr>\n",
              "    <tr>\n",
              "      <th>1908-01-01</th>\n",
              "      <td>22</td>\n",
              "      <td>22</td>\n",
              "    </tr>\n",
              "    <tr>\n",
              "      <th>1909-01-01</th>\n",
              "      <td>27</td>\n",
              "      <td>27</td>\n",
              "    </tr>\n",
              "    <tr>\n",
              "      <th>1910-01-01</th>\n",
              "      <td>50</td>\n",
              "      <td>50</td>\n",
              "    </tr>\n",
              "    <tr>\n",
              "      <th>1911-01-01</th>\n",
              "      <td>55</td>\n",
              "      <td>55</td>\n",
              "    </tr>\n",
              "    <tr>\n",
              "      <th>1912-01-01</th>\n",
              "      <td>78</td>\n",
              "      <td>78</td>\n",
              "    </tr>\n",
              "    <tr>\n",
              "      <th>1913-01-01</th>\n",
              "      <td>70</td>\n",
              "      <td>70</td>\n",
              "    </tr>\n",
              "    <tr>\n",
              "      <th>1914-01-01</th>\n",
              "      <td>59</td>\n",
              "      <td>59</td>\n",
              "    </tr>\n",
              "    <tr>\n",
              "      <th>1915-01-01</th>\n",
              "      <td>28</td>\n",
              "      <td>28</td>\n",
              "    </tr>\n",
              "    <tr>\n",
              "      <th>1916-01-01</th>\n",
              "      <td>20</td>\n",
              "      <td>20</td>\n",
              "    </tr>\n",
              "    <tr>\n",
              "      <th>1917-01-01</th>\n",
              "      <td>15</td>\n",
              "      <td>15</td>\n",
              "    </tr>\n",
              "    <tr>\n",
              "      <th>1918-01-01</th>\n",
              "      <td>15</td>\n",
              "      <td>15</td>\n",
              "    </tr>\n",
              "    <tr>\n",
              "      <th>1919-01-01</th>\n",
              "      <td>25</td>\n",
              "      <td>25</td>\n",
              "    </tr>\n",
              "    <tr>\n",
              "      <th>1920-01-01</th>\n",
              "      <td>35</td>\n",
              "      <td>35</td>\n",
              "    </tr>\n",
              "    <tr>\n",
              "      <th>1921-01-01</th>\n",
              "      <td>65</td>\n",
              "      <td>65</td>\n",
              "    </tr>\n",
              "    <tr>\n",
              "      <th>1922-01-01</th>\n",
              "      <td>78</td>\n",
              "      <td>78</td>\n",
              "    </tr>\n",
              "    <tr>\n",
              "      <th>1923-01-01</th>\n",
              "      <td>82</td>\n",
              "      <td>82</td>\n",
              "    </tr>\n",
              "    <tr>\n",
              "      <th>1924-01-01</th>\n",
              "      <td>65</td>\n",
              "      <td>65</td>\n",
              "    </tr>\n",
              "    <tr>\n",
              "      <th>1925-01-01</th>\n",
              "      <td>26</td>\n",
              "      <td>26</td>\n",
              "    </tr>\n",
              "    <tr>\n",
              "      <th>1926-01-01</th>\n",
              "      <td>15</td>\n",
              "      <td>0</td>\n",
              "    </tr>\n",
              "    <tr>\n",
              "      <th>1927-01-01</th>\n",
              "      <td>10</td>\n",
              "      <td>0</td>\n",
              "    </tr>\n",
              "    <tr>\n",
              "      <th>1928-01-01</th>\n",
              "      <td>1</td>\n",
              "      <td>0</td>\n",
              "    </tr>\n",
              "    <tr>\n",
              "      <th>1929-01-01</th>\n",
              "      <td>2</td>\n",
              "      <td>0</td>\n",
              "    </tr>\n",
              "    <tr>\n",
              "      <th>1930-01-01</th>\n",
              "      <td>3</td>\n",
              "      <td>0</td>\n",
              "    </tr>\n",
              "    <tr>\n",
              "      <th>1931-01-01</th>\n",
              "      <td>22</td>\n",
              "      <td>0</td>\n",
              "    </tr>\n",
              "    <tr>\n",
              "      <th>1932-01-01</th>\n",
              "      <td>75</td>\n",
              "      <td>0</td>\n",
              "    </tr>\n",
              "    <tr>\n",
              "      <th>1933-01-01</th>\n",
              "      <td>95</td>\n",
              "      <td>0</td>\n",
              "    </tr>\n",
              "    <tr>\n",
              "      <th>1934-01-01</th>\n",
              "      <td>78</td>\n",
              "      <td>0</td>\n",
              "    </tr>\n",
              "    <tr>\n",
              "      <th>1935-01-01</th>\n",
              "      <td>20</td>\n",
              "      <td>0</td>\n",
              "    </tr>\n",
              "  </tbody>\n",
              "</table>\n",
              "</div>"
            ],
            "text/plain": [
              "            hare  pred\n",
              "1905-01-01    50    50\n",
              "1906-01-01    20    20\n",
              "1907-01-01    20    20\n",
              "1908-01-01    22    22\n",
              "1909-01-01    27    27\n",
              "1910-01-01    50    50\n",
              "1911-01-01    55    55\n",
              "1912-01-01    78    78\n",
              "1913-01-01    70    70\n",
              "1914-01-01    59    59\n",
              "1915-01-01    28    28\n",
              "1916-01-01    20    20\n",
              "1917-01-01    15    15\n",
              "1918-01-01    15    15\n",
              "1919-01-01    25    25\n",
              "1920-01-01    35    35\n",
              "1921-01-01    65    65\n",
              "1922-01-01    78    78\n",
              "1923-01-01    82    82\n",
              "1924-01-01    65    65\n",
              "1925-01-01    26    26\n",
              "1926-01-01    15     0\n",
              "1927-01-01    10     0\n",
              "1928-01-01     1     0\n",
              "1929-01-01     2     0\n",
              "1930-01-01     3     0\n",
              "1931-01-01    22     0\n",
              "1932-01-01    75     0\n",
              "1933-01-01    95     0\n",
              "1934-01-01    78     0\n",
              "1935-01-01    20     0"
            ]
          },
          "metadata": {},
          "execution_count": 9
        }
      ]
    },
    {
      "cell_type": "code",
      "metadata": {
        "colab": {
          "base_uri": "https://localhost:8080/"
        },
        "id": "ugM9HAKq6lMz",
        "outputId": "d1527857-425e-48e0-8281-4985c72215de"
      },
      "source": [
        "from statsmodels.tsa.arima_model import ARMA"
      ],
      "execution_count": 10,
      "outputs": [
        {
          "output_type": "stream",
          "name": "stderr",
          "text": [
            "/usr/local/lib/python3.7/dist-packages/statsmodels/tools/_testing.py:19: FutureWarning: pandas.util.testing is deprecated. Use the functions in the public API at pandas.testing instead.\n",
            "  import pandas.util.testing as tm\n"
          ]
        }
      ]
    },
    {
      "cell_type": "code",
      "metadata": {
        "colab": {
          "base_uri": "https://localhost:8080/"
        },
        "id": "oN7wPM-K70vL",
        "outputId": "060141c9-6968-4ba2-e0b6-048ac69c93ea"
      },
      "source": [
        "ARMA(df.loc[: '1925-01-01',\"pred\"], (1, 0))"
      ],
      "execution_count": 11,
      "outputs": [
        {
          "output_type": "execute_result",
          "data": {
            "text/plain": [
              "<statsmodels.tsa.arima_model.ARMA at 0x7f639a177bd0>"
            ]
          },
          "metadata": {},
          "execution_count": 11
        }
      ]
    },
    {
      "cell_type": "code",
      "metadata": {
        "colab": {
          "base_uri": "https://localhost:8080/"
        },
        "id": "duGuwfxL8lSP",
        "outputId": "0a24ea19-35d1-4375-8c33-d9a7423a85b3"
      },
      "source": [
        "arma = ARMA(df.loc[: '1925-01-01',\"pred\"], (1, 0))\n",
        "arma"
      ],
      "execution_count": 12,
      "outputs": [
        {
          "output_type": "execute_result",
          "data": {
            "text/plain": [
              "<statsmodels.tsa.arima_model.ARMA at 0x7f63ab9eb5d0>"
            ]
          },
          "metadata": {},
          "execution_count": 12
        }
      ]
    },
    {
      "cell_type": "code",
      "metadata": {
        "id": "3V8X-N1Q8n5E"
      },
      "source": [
        "result = arma.fit()"
      ],
      "execution_count": 13,
      "outputs": []
    },
    {
      "cell_type": "code",
      "metadata": {
        "colab": {
          "base_uri": "https://localhost:8080/",
          "height": 300
        },
        "id": "kJxHG76P8pnt",
        "outputId": "a711f681-be11-4b89-a486-41a57da2285d"
      },
      "source": [
        "result.summary()"
      ],
      "execution_count": 14,
      "outputs": [
        {
          "output_type": "execute_result",
          "data": {
            "text/html": [
              "<table class=\"simpletable\">\n",
              "<caption>ARMA Model Results</caption>\n",
              "<tr>\n",
              "  <th>Dep. Variable:</th>       <td>pred</td>       <th>  No. Observations:  </th>   <td>21</td>   \n",
              "</tr>\n",
              "<tr>\n",
              "  <th>Model:</th>            <td>ARMA(1, 0)</td>    <th>  Log Likelihood     </th> <td>-88.577</td>\n",
              "</tr>\n",
              "<tr>\n",
              "  <th>Method:</th>             <td>css-mle</td>     <th>  S.D. of innovations</th> <td>16.183</td> \n",
              "</tr>\n",
              "<tr>\n",
              "  <th>Date:</th>          <td>Wed, 01 Sep 2021</td> <th>  AIC                </th> <td>183.153</td>\n",
              "</tr>\n",
              "<tr>\n",
              "  <th>Time:</th>              <td>10:41:03</td>     <th>  BIC                </th> <td>186.287</td>\n",
              "</tr>\n",
              "<tr>\n",
              "  <th>Sample:</th>           <td>01-01-1905</td>    <th>  HQIC               </th> <td>183.833</td>\n",
              "</tr>\n",
              "<tr>\n",
              "  <th></th>                 <td>- 01-01-1925</td>   <th>                     </th>    <td> </td>   \n",
              "</tr>\n",
              "</table>\n",
              "<table class=\"simpletable\">\n",
              "<tr>\n",
              "       <td></td>         <th>coef</th>     <th>std err</th>      <th>z</th>      <th>P>|z|</th>  <th>[0.025</th>    <th>0.975]</th>  \n",
              "</tr>\n",
              "<tr>\n",
              "  <th>const</th>      <td>   42.2223</td> <td>   10.206</td> <td>    4.137</td> <td> 0.001</td> <td>   22.220</td> <td>   62.225</td>\n",
              "</tr>\n",
              "<tr>\n",
              "  <th>ar.L1.pred</th> <td>    0.6846</td> <td>    0.148</td> <td>    4.616</td> <td> 0.000</td> <td>    0.394</td> <td>    0.975</td>\n",
              "</tr>\n",
              "</table>\n",
              "<table class=\"simpletable\">\n",
              "<caption>Roots</caption>\n",
              "<tr>\n",
              "    <td></td>   <th>            Real</th>  <th>         Imaginary</th> <th>         Modulus</th>  <th>        Frequency</th>\n",
              "</tr>\n",
              "<tr>\n",
              "  <th>AR.1</th> <td>           1.4606</td> <td>          +0.0000j</td> <td>           1.4606</td> <td>           0.0000</td>\n",
              "</tr>\n",
              "</table>"
            ],
            "text/plain": [
              "<class 'statsmodels.iolib.summary.Summary'>\n",
              "\"\"\"\n",
              "                              ARMA Model Results                              \n",
              "==============================================================================\n",
              "Dep. Variable:                   pred   No. Observations:                   21\n",
              "Model:                     ARMA(1, 0)   Log Likelihood                 -88.577\n",
              "Method:                       css-mle   S.D. of innovations             16.183\n",
              "Date:                Wed, 01 Sep 2021   AIC                            183.153\n",
              "Time:                        10:41:03   BIC                            186.287\n",
              "Sample:                    01-01-1905   HQIC                           183.833\n",
              "                         - 01-01-1925                                         \n",
              "==============================================================================\n",
              "                 coef    std err          z      P>|z|      [0.025      0.975]\n",
              "------------------------------------------------------------------------------\n",
              "const         42.2223     10.206      4.137      0.001      22.220      62.225\n",
              "ar.L1.pred     0.6846      0.148      4.616      0.000       0.394       0.975\n",
              "                                    Roots                                    \n",
              "=============================================================================\n",
              "                  Real          Imaginary           Modulus         Frequency\n",
              "-----------------------------------------------------------------------------\n",
              "AR.1            1.4606           +0.0000j            1.4606            0.0000\n",
              "-----------------------------------------------------------------------------\n",
              "\"\"\""
            ]
          },
          "metadata": {},
          "execution_count": 14
        }
      ]
    },
    {
      "cell_type": "code",
      "metadata": {
        "colab": {
          "base_uri": "https://localhost:8080/"
        },
        "id": "VLn95YcL8qs8",
        "outputId": "53db3d95-c856-4c50-95c0-f52115679005"
      },
      "source": [
        "print(result.summary())"
      ],
      "execution_count": 15,
      "outputs": [
        {
          "output_type": "stream",
          "name": "stdout",
          "text": [
            "                              ARMA Model Results                              \n",
            "==============================================================================\n",
            "Dep. Variable:                   pred   No. Observations:                   21\n",
            "Model:                     ARMA(1, 0)   Log Likelihood                 -88.577\n",
            "Method:                       css-mle   S.D. of innovations             16.183\n",
            "Date:                Wed, 01 Sep 2021   AIC                            183.153\n",
            "Time:                        10:43:46   BIC                            186.287\n",
            "Sample:                    01-01-1905   HQIC                           183.833\n",
            "                         - 01-01-1925                                         \n",
            "==============================================================================\n",
            "                 coef    std err          z      P>|z|      [0.025      0.975]\n",
            "------------------------------------------------------------------------------\n",
            "const         42.2223     10.206      4.137      0.001      22.220      62.225\n",
            "ar.L1.pred     0.6846      0.148      4.616      0.000       0.394       0.975\n",
            "                                    Roots                                    \n",
            "=============================================================================\n",
            "                  Real          Imaginary           Modulus         Frequency\n",
            "-----------------------------------------------------------------------------\n",
            "AR.1            1.4606           +0.0000j            1.4606            0.0000\n",
            "-----------------------------------------------------------------------------\n"
          ]
        }
      ]
    },
    {
      "cell_type": "code",
      "metadata": {
        "colab": {
          "base_uri": "https://localhost:8080/"
        },
        "id": "hBj2r0au9SaP",
        "outputId": "dbedbf69-b7f5-4849-a0cb-69c35ef1b93d"
      },
      "source": [
        "result.predict(start='1926-01-01', end='1935-01-01')"
      ],
      "execution_count": 16,
      "outputs": [
        {
          "output_type": "execute_result",
          "data": {
            "text/plain": [
              "1926-01-01    31.115865\n",
              "1927-01-01    34.618389\n",
              "1928-01-01    37.016355\n",
              "1929-01-01    38.658098\n",
              "1930-01-01    39.782101\n",
              "1931-01-01    40.551637\n",
              "1932-01-01    41.078492\n",
              "1933-01-01    41.439198\n",
              "1934-01-01    41.686152\n",
              "1935-01-01    41.855226\n",
              "Freq: AS-JAN, dtype: float64"
            ]
          },
          "metadata": {},
          "execution_count": 16
        }
      ]
    },
    {
      "cell_type": "code",
      "metadata": {
        "id": "eAJMPlNy9ZYP"
      },
      "source": [
        "predict = result.predict(start='1926-01-01', end='1935-01-01')"
      ],
      "execution_count": 17,
      "outputs": []
    },
    {
      "cell_type": "code",
      "metadata": {
        "id": "wLIQnV_V9bmM"
      },
      "source": [
        "df.loc[\"1926-01-01\" : , \"pred\"] = predict"
      ],
      "execution_count": 18,
      "outputs": []
    },
    {
      "cell_type": "code",
      "metadata": {
        "id": "uObOq4EK9eXd"
      },
      "source": [
        "df"
      ],
      "execution_count": null,
      "outputs": []
    },
    {
      "cell_type": "code",
      "metadata": {
        "id": "zlamQ8xo9gdr"
      },
      "source": [
        "import matplotlib.pyplot as plt"
      ],
      "execution_count": 21,
      "outputs": []
    },
    {
      "cell_type": "code",
      "metadata": {
        "id": "F2MvibJ-9qcX"
      },
      "source": [
        "plt.style.use(\"ggplot\")"
      ],
      "execution_count": 22,
      "outputs": []
    },
    {
      "cell_type": "code",
      "metadata": {
        "colab": {
          "base_uri": "https://localhost:8080/",
          "height": 610
        },
        "id": "ScxjdNVU9r20",
        "outputId": "89fba0a7-7f82-44e0-d9fe-92f404eaab3d"
      },
      "source": [
        "plt.figure(figsize=(15,10))\n",
        "df.loc[ : , \"hare\"].plot(color=\"b\", marker='o')"
      ],
      "execution_count": 24,
      "outputs": [
        {
          "output_type": "execute_result",
          "data": {
            "text/plain": [
              "<matplotlib.axes._subplots.AxesSubplot at 0x7f638ffc0650>"
            ]
          },
          "metadata": {},
          "execution_count": 24
        },
        {
          "output_type": "display_data",
          "data": {
            "image/png": "[encoded data removed]",
            "text/plain": [
              "<Figure size 1080x720 with 1 Axes>"
            ]
          },
          "metadata": {}
        }
      ]
    },
    {
      "cell_type": "code",
      "metadata": {
        "colab": {
          "base_uri": "https://localhost:8080/",
          "height": 610
        },
        "id": "3-5cafjN9tcx",
        "outputId": "08673a2d-fc59-44b9-f4c1-64684e3ab593"
      },
      "source": [
        "plt.figure(figsize=(15,10))\n",
        "df.loc[ : , \"hare\"].plot(color=\"b\", marker='o')\n",
        "df.loc[\"1925-01-01\":  , \"pred\"].plot(color=\"r\", marker='o')"
      ],
      "execution_count": 25,
      "outputs": [
        {
          "output_type": "execute_result",
          "data": {
            "text/plain": [
              "<matplotlib.axes._subplots.AxesSubplot at 0x7f638faaea90>"
            ]
          },
          "metadata": {},
          "execution_count": 25
        },
        {
          "output_type": "display_data",
          "data": {
            "image/png": "[encoded data removed]",
            "text/plain": [
              "<Figure size 1080x720 with 1 Axes>"
            ]
          },
          "metadata": {}
        }
      ]
    },
    {
      "cell_type": "code",
      "metadata": {
        "colab": {
          "base_uri": "https://localhost:8080/",
          "height": 357
        },
        "id": "VWutZM2d91_n",
        "outputId": "f59fa90d-a5d3-4a0d-f1d6-d8fc39814d8c"
      },
      "source": [
        "df.loc[\"1926-01-01\": , ]"
      ],
      "execution_count": 26,
      "outputs": [
        {
          "output_type": "execute_result",
          "data": {
            "text/html": [
              "<div>\n",
              "<style scoped>\n",
              "    .dataframe tbody tr th:only-of-type {\n",
              "        vertical-align: middle;\n",
              "    }\n",
              "\n",
              "    .dataframe tbody tr th {\n",
              "        vertical-align: top;\n",
              "    }\n",
              "\n",
              "    .dataframe thead th {\n",
              "        text-align: right;\n",
              "    }\n",
              "</style>\n",
              "<table border=\"1\" class=\"dataframe\">\n",
              "  <thead>\n",
              "    <tr style=\"text-align: right;\">\n",
              "      <th></th>\n",
              "      <th>hare</th>\n",
              "      <th>pred</th>\n",
              "    </tr>\n",
              "  </thead>\n",
              "  <tbody>\n",
              "    <tr>\n",
              "      <th>1926-01-01</th>\n",
              "      <td>15</td>\n",
              "      <td>31.115865</td>\n",
              "    </tr>\n",
              "    <tr>\n",
              "      <th>1927-01-01</th>\n",
              "      <td>10</td>\n",
              "      <td>34.618389</td>\n",
              "    </tr>\n",
              "    <tr>\n",
              "      <th>1928-01-01</th>\n",
              "      <td>1</td>\n",
              "      <td>37.016355</td>\n",
              "    </tr>\n",
              "    <tr>\n",
              "      <th>1929-01-01</th>\n",
              "      <td>2</td>\n",
              "      <td>38.658098</td>\n",
              "    </tr>\n",
              "    <tr>\n",
              "      <th>1930-01-01</th>\n",
              "      <td>3</td>\n",
              "      <td>39.782101</td>\n",
              "    </tr>\n",
              "    <tr>\n",
              "      <th>1931-01-01</th>\n",
              "      <td>22</td>\n",
              "      <td>40.551637</td>\n",
              "    </tr>\n",
              "    <tr>\n",
              "      <th>1932-01-01</th>\n",
              "      <td>75</td>\n",
              "      <td>41.078492</td>\n",
              "    </tr>\n",
              "    <tr>\n",
              "      <th>1933-01-01</th>\n",
              "      <td>95</td>\n",
              "      <td>41.439198</td>\n",
              "    </tr>\n",
              "    <tr>\n",
              "      <th>1934-01-01</th>\n",
              "      <td>78</td>\n",
              "      <td>41.686152</td>\n",
              "    </tr>\n",
              "    <tr>\n",
              "      <th>1935-01-01</th>\n",
              "      <td>20</td>\n",
              "      <td>41.855226</td>\n",
              "    </tr>\n",
              "  </tbody>\n",
              "</table>\n",
              "</div>"
            ],
            "text/plain": [
              "            hare       pred\n",
              "1926-01-01    15  31.115865\n",
              "1927-01-01    10  34.618389\n",
              "1928-01-01     1  37.016355\n",
              "1929-01-01     2  38.658098\n",
              "1930-01-01     3  39.782101\n",
              "1931-01-01    22  40.551637\n",
              "1932-01-01    75  41.078492\n",
              "1933-01-01    95  41.439198\n",
              "1934-01-01    78  41.686152\n",
              "1935-01-01    20  41.855226"
            ]
          },
          "metadata": {},
          "execution_count": 26
        }
      ]
    },
    {
      "cell_type": "code",
      "metadata": {
        "colab": {
          "base_uri": "https://localhost:8080/"
        },
        "id": "uN8boeH_GyjW",
        "outputId": "71a334b4-3c0e-47d6-cba0-aec223b620b0"
      },
      "source": [
        "df.loc[\"1926-01-01\": , \"hare\" ]"
      ],
      "execution_count": 27,
      "outputs": [
        {
          "output_type": "execute_result",
          "data": {
            "text/plain": [
              "1926-01-01    15\n",
              "1927-01-01    10\n",
              "1928-01-01     1\n",
              "1929-01-01     2\n",
              "1930-01-01     3\n",
              "1931-01-01    22\n",
              "1932-01-01    75\n",
              "1933-01-01    95\n",
              "1934-01-01    78\n",
              "1935-01-01    20\n",
              "Freq: AS-JAN, Name: hare, dtype: int64"
            ]
          },
          "metadata": {},
          "execution_count": 27
        }
      ]
    },
    {
      "cell_type": "code",
      "metadata": {
        "colab": {
          "base_uri": "https://localhost:8080/"
        },
        "id": "14cKv7w1G1EQ",
        "outputId": "294f8eab-4c5c-4a56-f588-7d751b1beb87"
      },
      "source": [
        "df.loc[\"1926-01-01\": , \"pred\" ]"
      ],
      "execution_count": 28,
      "outputs": [
        {
          "output_type": "execute_result",
          "data": {
            "text/plain": [
              "1926-01-01    31.115865\n",
              "1927-01-01    34.618389\n",
              "1928-01-01    37.016355\n",
              "1929-01-01    38.658098\n",
              "1930-01-01    39.782101\n",
              "1931-01-01    40.551637\n",
              "1932-01-01    41.078492\n",
              "1933-01-01    41.439198\n",
              "1934-01-01    41.686152\n",
              "1935-01-01    41.855226\n",
              "Freq: AS-JAN, Name: pred, dtype: float64"
            ]
          },
          "metadata": {},
          "execution_count": 28
        }
      ]
    },
    {
      "cell_type": "code",
      "metadata": {
        "colab": {
          "base_uri": "https://localhost:8080/"
        },
        "id": "cF6Kb2MXG2h2",
        "outputId": "023ec48d-d90e-4022-f7fc-9a3f81026e59"
      },
      "source": [
        "cost = df.loc[\"1926-01-01\": , \"hare\" ] - df.loc[\"1926-01-01\": , \"pred\" ]\n",
        "cost"
      ],
      "execution_count": 29,
      "outputs": [
        {
          "output_type": "execute_result",
          "data": {
            "text/plain": [
              "1926-01-01   -16.115865\n",
              "1927-01-01   -24.618389\n",
              "1928-01-01   -36.016355\n",
              "1929-01-01   -36.658098\n",
              "1930-01-01   -36.782101\n",
              "1931-01-01   -18.551637\n",
              "1932-01-01    33.921508\n",
              "1933-01-01    53.560802\n",
              "1934-01-01    36.313848\n",
              "1935-01-01   -21.855226\n",
              "Freq: AS-JAN, dtype: float64"
            ]
          },
          "metadata": {},
          "execution_count": 29
        }
      ]
    },
    {
      "cell_type": "code",
      "metadata": {
        "id": "JeD7KvRXG4zS"
      },
      "source": [
        "df.loc[\"1926-01-01\": , \"residual\"] = cost"
      ],
      "execution_count": 30,
      "outputs": []
    },
    {
      "cell_type": "code",
      "metadata": {
        "colab": {
          "base_uri": "https://localhost:8080/",
          "height": 1000
        },
        "id": "G60GeRNSG6Tw",
        "outputId": "a26060cb-6635-4696-a4a6-aa695bcada48"
      },
      "source": [
        "df"
      ],
      "execution_count": 31,
      "outputs": [
        {
          "output_type": "execute_result",
          "data": {
            "text/html": [
              "<div>\n",
              "<style scoped>\n",
              "    .dataframe tbody tr th:only-of-type {\n",
              "        vertical-align: middle;\n",
              "    }\n",
              "\n",
              "    .dataframe tbody tr th {\n",
              "        vertical-align: top;\n",
              "    }\n",
              "\n",
              "    .dataframe thead th {\n",
              "        text-align: right;\n",
              "    }\n",
              "</style>\n",
              "<table border=\"1\" class=\"dataframe\">\n",
              "  <thead>\n",
              "    <tr style=\"text-align: right;\">\n",
              "      <th></th>\n",
              "      <th>hare</th>\n",
              "      <th>pred</th>\n",
              "      <th>residual</th>\n",
              "    </tr>\n",
              "  </thead>\n",
              "  <tbody>\n",
              "    <tr>\n",
              "      <th>1905-01-01</th>\n",
              "      <td>50</td>\n",
              "      <td>50.000000</td>\n",
              "      <td>NaN</td>\n",
              "    </tr>\n",
              "    <tr>\n",
              "      <th>1906-01-01</th>\n",
              "      <td>20</td>\n",
              "      <td>20.000000</td>\n",
              "      <td>NaN</td>\n",
              "    </tr>\n",
              "    <tr>\n",
              "      <th>1907-01-01</th>\n",
              "      <td>20</td>\n",
              "      <td>20.000000</td>\n",
              "      <td>NaN</td>\n",
              "    </tr>\n",
              "    <tr>\n",
              "      <th>1908-01-01</th>\n",
              "      <td>22</td>\n",
              "      <td>22.000000</td>\n",
              "      <td>NaN</td>\n",
              "    </tr>\n",
              "    <tr>\n",
              "      <th>1909-01-01</th>\n",
              "      <td>27</td>\n",
              "      <td>27.000000</td>\n",
              "      <td>NaN</td>\n",
              "    </tr>\n",
              "    <tr>\n",
              "      <th>1910-01-01</th>\n",
              "      <td>50</td>\n",
              "      <td>50.000000</td>\n",
              "      <td>NaN</td>\n",
              "    </tr>\n",
              "    <tr>\n",
              "      <th>1911-01-01</th>\n",
              "      <td>55</td>\n",
              "      <td>55.000000</td>\n",
              "      <td>NaN</td>\n",
              "    </tr>\n",
              "    <tr>\n",
              "      <th>1912-01-01</th>\n",
              "      <td>78</td>\n",
              "      <td>78.000000</td>\n",
              "      <td>NaN</td>\n",
              "    </tr>\n",
              "    <tr>\n",
              "      <th>1913-01-01</th>\n",
              "      <td>70</td>\n",
              "      <td>70.000000</td>\n",
              "      <td>NaN</td>\n",
              "    </tr>\n",
              "    <tr>\n",
              "      <th>1914-01-01</th>\n",
              "      <td>59</td>\n",
              "      <td>59.000000</td>\n",
              "      <td>NaN</td>\n",
              "    </tr>\n",
              "    <tr>\n",
              "      <th>1915-01-01</th>\n",
              "      <td>28</td>\n",
              "      <td>28.000000</td>\n",
              "      <td>NaN</td>\n",
              "    </tr>\n",
              "    <tr>\n",
              "      <th>1916-01-01</th>\n",
              "      <td>20</td>\n",
              "      <td>20.000000</td>\n",
              "      <td>NaN</td>\n",
              "    </tr>\n",
              "    <tr>\n",
              "      <th>1917-01-01</th>\n",
              "      <td>15</td>\n",
              "      <td>15.000000</td>\n",
              "      <td>NaN</td>\n",
              "    </tr>\n",
              "    <tr>\n",
              "      <th>1918-01-01</th>\n",
              "      <td>15</td>\n",
              "      <td>15.000000</td>\n",
              "      <td>NaN</td>\n",
              "    </tr>\n",
              "    <tr>\n",
              "      <th>1919-01-01</th>\n",
              "      <td>25</td>\n",
              "      <td>25.000000</td>\n",
              "      <td>NaN</td>\n",
              "    </tr>\n",
              "    <tr>\n",
              "      <th>1920-01-01</th>\n",
              "      <td>35</td>\n",
              "      <td>35.000000</td>\n",
              "      <td>NaN</td>\n",
              "    </tr>\n",
              "    <tr>\n",
              "      <th>1921-01-01</th>\n",
              "      <td>65</td>\n",
              "      <td>65.000000</td>\n",
              "      <td>NaN</td>\n",
              "    </tr>\n",
              "    <tr>\n",
              "      <th>1922-01-01</th>\n",
              "      <td>78</td>\n",
              "      <td>78.000000</td>\n",
              "      <td>NaN</td>\n",
              "    </tr>\n",
              "    <tr>\n",
              "      <th>1923-01-01</th>\n",
              "      <td>82</td>\n",
              "      <td>82.000000</td>\n",
              "      <td>NaN</td>\n",
              "    </tr>\n",
              "    <tr>\n",
              "      <th>1924-01-01</th>\n",
              "      <td>65</td>\n",
              "      <td>65.000000</td>\n",
              "      <td>NaN</td>\n",
              "    </tr>\n",
              "    <tr>\n",
              "      <th>1925-01-01</th>\n",
              "      <td>26</td>\n",
              "      <td>26.000000</td>\n",
              "      <td>NaN</td>\n",
              "    </tr>\n",
              "    <tr>\n",
              "      <th>1926-01-01</th>\n",
              "      <td>15</td>\n",
              "      <td>31.115865</td>\n",
              "      <td>-16.115865</td>\n",
              "    </tr>\n",
              "    <tr>\n",
              "      <th>1927-01-01</th>\n",
              "      <td>10</td>\n",
              "      <td>34.618389</td>\n",
              "      <td>-24.618389</td>\n",
              "    </tr>\n",
              "    <tr>\n",
              "      <th>1928-01-01</th>\n",
              "      <td>1</td>\n",
              "      <td>37.016355</td>\n",
              "      <td>-36.016355</td>\n",
              "    </tr>\n",
              "    <tr>\n",
              "      <th>1929-01-01</th>\n",
              "      <td>2</td>\n",
              "      <td>38.658098</td>\n",
              "      <td>-36.658098</td>\n",
              "    </tr>\n",
              "    <tr>\n",
              "      <th>1930-01-01</th>\n",
              "      <td>3</td>\n",
              "      <td>39.782101</td>\n",
              "      <td>-36.782101</td>\n",
              "    </tr>\n",
              "    <tr>\n",
              "      <th>1931-01-01</th>\n",
              "      <td>22</td>\n",
              "      <td>40.551637</td>\n",
              "      <td>-18.551637</td>\n",
              "    </tr>\n",
              "    <tr>\n",
              "      <th>1932-01-01</th>\n",
              "      <td>75</td>\n",
              "      <td>41.078492</td>\n",
              "      <td>33.921508</td>\n",
              "    </tr>\n",
              "    <tr>\n",
              "      <th>1933-01-01</th>\n",
              "      <td>95</td>\n",
              "      <td>41.439198</td>\n",
              "      <td>53.560802</td>\n",
              "    </tr>\n",
              "    <tr>\n",
              "      <th>1934-01-01</th>\n",
              "      <td>78</td>\n",
              "      <td>41.686152</td>\n",
              "      <td>36.313848</td>\n",
              "    </tr>\n",
              "    <tr>\n",
              "      <th>1935-01-01</th>\n",
              "      <td>20</td>\n",
              "      <td>41.855226</td>\n",
              "      <td>-21.855226</td>\n",
              "    </tr>\n",
              "  </tbody>\n",
              "</table>\n",
              "</div>"
            ],
            "text/plain": [
              "            hare       pred   residual\n",
              "1905-01-01    50  50.000000        NaN\n",
              "1906-01-01    20  20.000000        NaN\n",
              "1907-01-01    20  20.000000        NaN\n",
              "1908-01-01    22  22.000000        NaN\n",
              "1909-01-01    27  27.000000        NaN\n",
              "1910-01-01    50  50.000000        NaN\n",
              "1911-01-01    55  55.000000        NaN\n",
              "1912-01-01    78  78.000000        NaN\n",
              "1913-01-01    70  70.000000        NaN\n",
              "1914-01-01    59  59.000000        NaN\n",
              "1915-01-01    28  28.000000        NaN\n",
              "1916-01-01    20  20.000000        NaN\n",
              "1917-01-01    15  15.000000        NaN\n",
              "1918-01-01    15  15.000000        NaN\n",
              "1919-01-01    25  25.000000        NaN\n",
              "1920-01-01    35  35.000000        NaN\n",
              "1921-01-01    65  65.000000        NaN\n",
              "1922-01-01    78  78.000000        NaN\n",
              "1923-01-01    82  82.000000        NaN\n",
              "1924-01-01    65  65.000000        NaN\n",
              "1925-01-01    26  26.000000        NaN\n",
              "1926-01-01    15  31.115865 -16.115865\n",
              "1927-01-01    10  34.618389 -24.618389\n",
              "1928-01-01     1  37.016355 -36.016355\n",
              "1929-01-01     2  38.658098 -36.658098\n",
              "1930-01-01     3  39.782101 -36.782101\n",
              "1931-01-01    22  40.551637 -18.551637\n",
              "1932-01-01    75  41.078492  33.921508\n",
              "1933-01-01    95  41.439198  53.560802\n",
              "1934-01-01    78  41.686152  36.313848\n",
              "1935-01-01    20  41.855226 -21.855226"
            ]
          },
          "metadata": {},
          "execution_count": 31
        }
      ]
    },
    {
      "cell_type": "code",
      "metadata": {
        "colab": {
          "base_uri": "https://localhost:8080/"
        },
        "id": "ZIH7OdzRG8SP",
        "outputId": "1dacb139-34f4-42c5-e2f2-cf46f4b59c40"
      },
      "source": [
        "df.loc[\"1926-01-01\": , \"residual\"]"
      ],
      "execution_count": 32,
      "outputs": [
        {
          "output_type": "execute_result",
          "data": {
            "text/plain": [
              "1926-01-01   -16.115865\n",
              "1927-01-01   -24.618389\n",
              "1928-01-01   -36.016355\n",
              "1929-01-01   -36.658098\n",
              "1930-01-01   -36.782101\n",
              "1931-01-01   -18.551637\n",
              "1932-01-01    33.921508\n",
              "1933-01-01    53.560802\n",
              "1934-01-01    36.313848\n",
              "1935-01-01   -21.855226\n",
              "Freq: AS-JAN, Name: residual, dtype: float64"
            ]
          },
          "metadata": {},
          "execution_count": 32
        }
      ]
    },
    {
      "cell_type": "code",
      "metadata": {
        "colab": {
          "base_uri": "https://localhost:8080/"
        },
        "id": "HUfXjnnGG_uA",
        "outputId": "969f8e8e-d2df-489e-cb73-bf0d4df2e309"
      },
      "source": [
        "df.loc[\"1926-01-01\": , \"residual\"] ** 2"
      ],
      "execution_count": 33,
      "outputs": [
        {
          "output_type": "execute_result",
          "data": {
            "text/plain": [
              "1926-01-01     259.721096\n",
              "1927-01-01     606.065053\n",
              "1928-01-01    1297.177838\n",
              "1929-01-01    1343.816161\n",
              "1930-01-01    1352.922918\n",
              "1931-01-01     344.163238\n",
              "1932-01-01    1150.668684\n",
              "1933-01-01    2868.759480\n",
              "1934-01-01    1318.695564\n",
              "1935-01-01     477.650909\n",
              "Freq: AS-JAN, Name: residual, dtype: float64"
            ]
          },
          "metadata": {},
          "execution_count": 33
        }
      ]
    },
    {
      "cell_type": "code",
      "metadata": {
        "colab": {
          "base_uri": "https://localhost:8080/"
        },
        "id": "yVfZdk3JHB9b",
        "outputId": "69d60737-9119-402b-dd54-ca34eb56adcb"
      },
      "source": [
        "( df.loc[\"1926-01-01\": , \"residual\"] ** 2 ).sum()"
      ],
      "execution_count": 34,
      "outputs": [
        {
          "output_type": "execute_result",
          "data": {
            "text/plain": [
              "11019.640942083002"
            ]
          },
          "metadata": {},
          "execution_count": 34
        }
      ]
    },
    {
      "cell_type": "code",
      "metadata": {
        "colab": {
          "base_uri": "https://localhost:8080/"
        },
        "id": "-hmHGHLnHDMN",
        "outputId": "8e1faade-45e4-4cb6-e432-a50d411064f6"
      },
      "source": [
        "len( df.loc[\"1926-01-01\": , \"residual\"]  )"
      ],
      "execution_count": 35,
      "outputs": [
        {
          "output_type": "execute_result",
          "data": {
            "text/plain": [
              "10"
            ]
          },
          "metadata": {},
          "execution_count": 35
        }
      ]
    },
    {
      "cell_type": "code",
      "metadata": {
        "colab": {
          "base_uri": "https://localhost:8080/"
        },
        "id": "7CXLSVvnHE9U",
        "outputId": "e8988fdb-7e88-4b99-942d-f6f7ccb20619"
      },
      "source": [
        "( df.loc[\"1926-01-01\": , \"residual\"] ** 2 ).sum() / len( df.loc[\"1926-01-01\": , \"residual\"]  )"
      ],
      "execution_count": 36,
      "outputs": [
        {
          "output_type": "execute_result",
          "data": {
            "text/plain": [
              "1101.9640942083001"
            ]
          },
          "metadata": {},
          "execution_count": 36
        }
      ]
    },
    {
      "cell_type": "code",
      "metadata": {
        "id": "KqJ5kPCuKV2e"
      },
      "source": [
        "from sklearn.metrics import mean_squared_error\n",
        "#MSE"
      ],
      "execution_count": 37,
      "outputs": []
    },
    {
      "cell_type": "code",
      "metadata": {
        "colab": {
          "base_uri": "https://localhost:8080/"
        },
        "id": "G8nheRhyKXWg",
        "outputId": "4784083d-63ea-4ad0-8254-1385b243b4fb"
      },
      "source": [
        "mean_squared_error(df.loc[\"1926-01-01\": , \"hare\" ] , df.loc[\"1926-01-01\": , \"pred\" ])"
      ],
      "execution_count": 38,
      "outputs": [
        {
          "output_type": "execute_result",
          "data": {
            "text/plain": [
              "1101.9640942083001"
            ]
          },
          "metadata": {},
          "execution_count": 38
        }
      ]
    },
    {
      "cell_type": "code",
      "metadata": {
        "colab": {
          "base_uri": "https://localhost:8080/"
        },
        "id": "LJSvxVt3Uqp2",
        "outputId": "8dd16714-bed9-4c88-e1d8-e6076241cbee"
      },
      "source": [
        "df.loc[ :\"1925-01-01\",\"pred\"]"
      ],
      "execution_count": 39,
      "outputs": [
        {
          "output_type": "execute_result",
          "data": {
            "text/plain": [
              "1905-01-01    50.0\n",
              "1906-01-01    20.0\n",
              "1907-01-01    20.0\n",
              "1908-01-01    22.0\n",
              "1909-01-01    27.0\n",
              "1910-01-01    50.0\n",
              "1911-01-01    55.0\n",
              "1912-01-01    78.0\n",
              "1913-01-01    70.0\n",
              "1914-01-01    59.0\n",
              "1915-01-01    28.0\n",
              "1916-01-01    20.0\n",
              "1917-01-01    15.0\n",
              "1918-01-01    15.0\n",
              "1919-01-01    25.0\n",
              "1920-01-01    35.0\n",
              "1921-01-01    65.0\n",
              "1922-01-01    78.0\n",
              "1923-01-01    82.0\n",
              "1924-01-01    65.0\n",
              "1925-01-01    26.0\n",
              "Freq: AS-JAN, Name: pred, dtype: float64"
            ]
          },
          "metadata": {},
          "execution_count": 39
        }
      ]
    },
    {
      "cell_type": "code",
      "metadata": {
        "colab": {
          "base_uri": "https://localhost:8080/"
        },
        "id": "DN_-AehtU_N1",
        "outputId": "91ed0534-4749-4fcd-de77-e33499083ec9"
      },
      "source": [
        "ARMA( df.loc[ : \"1925-01-01\",\"pred\"] , (2, 0) )"
      ],
      "execution_count": 40,
      "outputs": [
        {
          "output_type": "execute_result",
          "data": {
            "text/plain": [
              "<statsmodels.tsa.arima_model.ARMA at 0x7f638d76ff90>"
            ]
          },
          "metadata": {},
          "execution_count": 40
        }
      ]
    },
    {
      "cell_type": "code",
      "metadata": {
        "id": "Xo2GjWGiVDlS"
      },
      "source": [
        "arma = ARMA( df.loc[ : \"1925-01-01\",\"pred\"] , (2, 0) )"
      ],
      "execution_count": 41,
      "outputs": []
    },
    {
      "cell_type": "code",
      "metadata": {
        "id": "7BeASmvQVExJ"
      },
      "source": [
        "result = arma.fit()"
      ],
      "execution_count": 42,
      "outputs": []
    },
    {
      "cell_type": "code",
      "metadata": {
        "colab": {
          "base_uri": "https://localhost:8080/",
          "height": 341
        },
        "id": "JNyvyf6UVFtd",
        "outputId": "1978d3a1-55d8-4486-f0ca-a6d2a37d9408"
      },
      "source": [
        "result.summary()"
      ],
      "execution_count": 43,
      "outputs": [
        {
          "output_type": "execute_result",
          "data": {
            "text/html": [
              "<table class=\"simpletable\">\n",
              "<caption>ARMA Model Results</caption>\n",
              "<tr>\n",
              "  <th>Dep. Variable:</th>       <td>pred</td>       <th>  No. Observations:  </th>   <td>21</td>   \n",
              "</tr>\n",
              "<tr>\n",
              "  <th>Model:</th>            <td>ARMA(2, 0)</td>    <th>  Log Likelihood     </th> <td>-82.514</td>\n",
              "</tr>\n",
              "<tr>\n",
              "  <th>Method:</th>             <td>css-mle</td>     <th>  S.D. of innovations</th> <td>11.603</td> \n",
              "</tr>\n",
              "<tr>\n",
              "  <th>Date:</th>          <td>Wed, 01 Sep 2021</td> <th>  AIC                </th> <td>173.029</td>\n",
              "</tr>\n",
              "<tr>\n",
              "  <th>Time:</th>              <td>12:27:50</td>     <th>  BIC                </th> <td>177.207</td>\n",
              "</tr>\n",
              "<tr>\n",
              "  <th>Sample:</th>           <td>01-01-1905</td>    <th>  HQIC               </th> <td>173.935</td>\n",
              "</tr>\n",
              "<tr>\n",
              "  <th></th>                 <td>- 01-01-1925</td>   <th>                     </th>    <td> </td>   \n",
              "</tr>\n",
              "</table>\n",
              "<table class=\"simpletable\">\n",
              "<tr>\n",
              "       <td></td>         <th>coef</th>     <th>std err</th>      <th>z</th>      <th>P>|z|</th>  <th>[0.025</th>    <th>0.975]</th>  \n",
              "</tr>\n",
              "<tr>\n",
              "  <th>const</th>      <td>   42.6210</td> <td>    5.501</td> <td>    7.747</td> <td> 0.000</td> <td>   31.838</td> <td>   53.404</td>\n",
              "</tr>\n",
              "<tr>\n",
              "  <th>ar.L1.pred</th> <td>    1.2870</td> <td>    0.164</td> <td>    7.827</td> <td> 0.000</td> <td>    0.965</td> <td>    1.609</td>\n",
              "</tr>\n",
              "<tr>\n",
              "  <th>ar.L2.pred</th> <td>   -0.7587</td> <td>    0.156</td> <td>   -4.863</td> <td> 0.000</td> <td>   -1.065</td> <td>   -0.453</td>\n",
              "</tr>\n",
              "</table>\n",
              "<table class=\"simpletable\">\n",
              "<caption>Roots</caption>\n",
              "<tr>\n",
              "    <td></td>   <th>            Real</th>  <th>         Imaginary</th> <th>         Modulus</th>  <th>        Frequency</th>\n",
              "</tr>\n",
              "<tr>\n",
              "  <th>AR.1</th> <td>           0.8481</td> <td>          -0.7738j</td> <td>           1.1480</td> <td>          -0.1177</td>\n",
              "</tr>\n",
              "<tr>\n",
              "  <th>AR.2</th> <td>           0.8481</td> <td>          +0.7738j</td> <td>           1.1480</td> <td>           0.1177</td>\n",
              "</tr>\n",
              "</table>"
            ],
            "text/plain": [
              "<class 'statsmodels.iolib.summary.Summary'>\n",
              "\"\"\"\n",
              "                              ARMA Model Results                              \n",
              "==============================================================================\n",
              "Dep. Variable:                   pred   No. Observations:                   21\n",
              "Model:                     ARMA(2, 0)   Log Likelihood                 -82.514\n",
              "Method:                       css-mle   S.D. of innovations             11.603\n",
              "Date:                Wed, 01 Sep 2021   AIC                            173.029\n",
              "Time:                        12:27:50   BIC                            177.207\n",
              "Sample:                    01-01-1905   HQIC                           173.935\n",
              "                         - 01-01-1925                                         \n",
              "==============================================================================\n",
              "                 coef    std err          z      P>|z|      [0.025      0.975]\n",
              "------------------------------------------------------------------------------\n",
              "const         42.6210      5.501      7.747      0.000      31.838      53.404\n",
              "ar.L1.pred     1.2870      0.164      7.827      0.000       0.965       1.609\n",
              "ar.L2.pred    -0.7587      0.156     -4.863      0.000      -1.065      -0.453\n",
              "                                    Roots                                    \n",
              "=============================================================================\n",
              "                  Real          Imaginary           Modulus         Frequency\n",
              "-----------------------------------------------------------------------------\n",
              "AR.1            0.8481           -0.7738j            1.1480           -0.1177\n",
              "AR.2            0.8481           +0.7738j            1.1480            0.1177\n",
              "-----------------------------------------------------------------------------\n",
              "\"\"\""
            ]
          },
          "metadata": {},
          "execution_count": 43
        }
      ]
    },
    {
      "cell_type": "code",
      "metadata": {
        "colab": {
          "base_uri": "https://localhost:8080/"
        },
        "id": "CjXqpwT5VG33",
        "outputId": "d47873e5-3d6f-46c6-c985-11e5050f4c4c"
      },
      "source": [
        "print( result.summary() )"
      ],
      "execution_count": 44,
      "outputs": [
        {
          "output_type": "stream",
          "name": "stdout",
          "text": [
            "                              ARMA Model Results                              \n",
            "==============================================================================\n",
            "Dep. Variable:                   pred   No. Observations:                   21\n",
            "Model:                     ARMA(2, 0)   Log Likelihood                 -82.514\n",
            "Method:                       css-mle   S.D. of innovations             11.603\n",
            "Date:                Wed, 01 Sep 2021   AIC                            173.029\n",
            "Time:                        12:27:54   BIC                            177.207\n",
            "Sample:                    01-01-1905   HQIC                           173.935\n",
            "                         - 01-01-1925                                         \n",
            "==============================================================================\n",
            "                 coef    std err          z      P>|z|      [0.025      0.975]\n",
            "------------------------------------------------------------------------------\n",
            "const         42.6210      5.501      7.747      0.000      31.838      53.404\n",
            "ar.L1.pred     1.2870      0.164      7.827      0.000       0.965       1.609\n",
            "ar.L2.pred    -0.7587      0.156     -4.863      0.000      -1.065      -0.453\n",
            "                                    Roots                                    \n",
            "=============================================================================\n",
            "                  Real          Imaginary           Modulus         Frequency\n",
            "-----------------------------------------------------------------------------\n",
            "AR.1            0.8481           -0.7738j            1.1480           -0.1177\n",
            "AR.2            0.8481           +0.7738j            1.1480            0.1177\n",
            "-----------------------------------------------------------------------------\n"
          ]
        }
      ]
    },
    {
      "cell_type": "code",
      "metadata": {
        "colab": {
          "base_uri": "https://localhost:8080/"
        },
        "id": "tvjvXi45VH2f",
        "outputId": "f70dd693-fcc9-407c-ed64-a6b51e6fc4ec"
      },
      "source": [
        "result.predict(start=\"1926-01-01\", end=\"1935-01-01\")"
      ],
      "execution_count": 45,
      "outputs": [
        {
          "output_type": "execute_result",
          "data": {
            "text/plain": [
              "1926-01-01     4.250857\n",
              "1927-01-01     5.850971\n",
              "1928-01-01    24.411939\n",
              "1929-01-01    47.085110\n",
              "1930-01-01    62.181849\n",
              "1931-01-01    64.407979\n",
              "1932-01-01    55.818601\n",
              "1933-01-01    43.075387\n",
              "1934-01-01    33.192382\n",
              "1935-01-01    30.141983\n",
              "Freq: AS-JAN, dtype: float64"
            ]
          },
          "metadata": {},
          "execution_count": 45
        }
      ]
    },
    {
      "cell_type": "code",
      "metadata": {
        "id": "RKzARQCaVLMw"
      },
      "source": [
        "prediction = result.predict(start=\"1926-01-01\", end=\"1935-01-01\")"
      ],
      "execution_count": 46,
      "outputs": []
    },
    {
      "cell_type": "code",
      "metadata": {
        "colab": {
          "base_uri": "https://localhost:8080/"
        },
        "id": "95dxaSbDVMY3",
        "outputId": "e0e58d6e-88d7-40db-f391-288d7c3d4391"
      },
      "source": [
        "prediction"
      ],
      "execution_count": 47,
      "outputs": [
        {
          "output_type": "execute_result",
          "data": {
            "text/plain": [
              "1926-01-01     4.250857\n",
              "1927-01-01     5.850971\n",
              "1928-01-01    24.411939\n",
              "1929-01-01    47.085110\n",
              "1930-01-01    62.181849\n",
              "1931-01-01    64.407979\n",
              "1932-01-01    55.818601\n",
              "1933-01-01    43.075387\n",
              "1934-01-01    33.192382\n",
              "1935-01-01    30.141983\n",
              "Freq: AS-JAN, dtype: float64"
            ]
          },
          "metadata": {},
          "execution_count": 47
        }
      ]
    },
    {
      "cell_type": "code",
      "metadata": {
        "id": "QXZIx3dBVNUP"
      },
      "source": [
        "df.loc[\"1926-01-01\": ,\"pred\"] = prediction"
      ],
      "execution_count": 48,
      "outputs": []
    },
    {
      "cell_type": "code",
      "metadata": {
        "colab": {
          "base_uri": "https://localhost:8080/"
        },
        "id": "q3PJXceTVOH4",
        "outputId": "41cd67a7-df54-48a2-e3bb-7ddd492e0f82"
      },
      "source": [
        "df.loc[\"1926-01-01\": , \"hare\"] - df.loc[\"1926-01-01\": , \"pred\"]"
      ],
      "execution_count": 49,
      "outputs": [
        {
          "output_type": "execute_result",
          "data": {
            "text/plain": [
              "1926-01-01    10.749143\n",
              "1927-01-01     4.149029\n",
              "1928-01-01   -23.411939\n",
              "1929-01-01   -45.085110\n",
              "1930-01-01   -59.181849\n",
              "1931-01-01   -42.407979\n",
              "1932-01-01    19.181399\n",
              "1933-01-01    51.924613\n",
              "1934-01-01    44.807618\n",
              "1935-01-01   -10.141983\n",
              "Freq: AS-JAN, dtype: float64"
            ]
          },
          "metadata": {},
          "execution_count": 49
        }
      ]
    },
    {
      "cell_type": "code",
      "metadata": {
        "id": "b4FuwNX9VPwA"
      },
      "source": [
        "cost = df.loc[\"1926-01-01\": , \"hare\"] - df.loc[\"1926-01-01\": , \"pred\"]"
      ],
      "execution_count": 50,
      "outputs": []
    },
    {
      "cell_type": "code",
      "metadata": {
        "id": "TVwR95P3VQyc"
      },
      "source": [
        "df.loc[\"1926-01-01\":  ,\"residual\"] = cost"
      ],
      "execution_count": 51,
      "outputs": []
    },
    {
      "cell_type": "code",
      "metadata": {
        "colab": {
          "base_uri": "https://localhost:8080/"
        },
        "id": "f4VUIX5CVR4G",
        "outputId": "3330867c-97df-44da-ad6a-789c0769714b"
      },
      "source": [
        "df.loc[\"1926-01-01\": ,\"residual\"] ** 2"
      ],
      "execution_count": 52,
      "outputs": [
        {
          "output_type": "execute_result",
          "data": {
            "text/plain": [
              "1926-01-01     115.544075\n",
              "1927-01-01      17.214438\n",
              "1928-01-01     548.118866\n",
              "1929-01-01    2032.667108\n",
              "1930-01-01    3502.491245\n",
              "1931-01-01    1798.436703\n",
              "1932-01-01     367.926065\n",
              "1933-01-01    2696.165401\n",
              "1934-01-01    2007.722596\n",
              "1935-01-01     102.859823\n",
              "Freq: AS-JAN, Name: residual, dtype: float64"
            ]
          },
          "metadata": {},
          "execution_count": 52
        }
      ]
    },
    {
      "cell_type": "code",
      "metadata": {
        "colab": {
          "base_uri": "https://localhost:8080/"
        },
        "id": "fk1H1Zr1VUGf",
        "outputId": "293f4fd8-de21-4234-83ba-fce3d369c496"
      },
      "source": [
        "( df.loc[\"1926-01-01\": ,\"residual\"] ** 2 ).sum()"
      ],
      "execution_count": 53,
      "outputs": [
        {
          "output_type": "execute_result",
          "data": {
            "text/plain": [
              "13189.146319339858"
            ]
          },
          "metadata": {},
          "execution_count": 53
        }
      ]
    },
    {
      "cell_type": "code",
      "metadata": {
        "colab": {
          "base_uri": "https://localhost:8080/"
        },
        "id": "9IF5cFtDVVfl",
        "outputId": "a129568a-4162-4b0f-9e2d-9922725286c1"
      },
      "source": [
        "( df.loc[\"1926-01-01\": ,\"residual\"] ** 2 ).sum() /10"
      ],
      "execution_count": 54,
      "outputs": [
        {
          "output_type": "execute_result",
          "data": {
            "text/plain": [
              "1318.9146319339857"
            ]
          },
          "metadata": {},
          "execution_count": 54
        }
      ]
    },
    {
      "cell_type": "code",
      "metadata": {
        "colab": {
          "base_uri": "https://localhost:8080/"
        },
        "id": "TZYi1F1iVWYc",
        "outputId": "9be93ea9-1767-4bf3-c3d0-69b85225b212"
      },
      "source": [
        "mean_squared_error(df.loc[\"1926-01-01\": ,\"hare\"], df.loc[\"1926-01-01\": ,\"pred\"])"
      ],
      "execution_count": 55,
      "outputs": [
        {
          "output_type": "execute_result",
          "data": {
            "text/plain": [
              "1318.9146319339857"
            ]
          },
          "metadata": {},
          "execution_count": 55
        }
      ]
    },
    {
      "cell_type": "code",
      "metadata": {
        "id": "_CQKEhaIVXYs"
      },
      "source": [
        "arma = ARMA(df.loc[ : \"1925-01-01\",\"pred\"], (3,0))"
      ],
      "execution_count": 56,
      "outputs": []
    },
    {
      "cell_type": "code",
      "metadata": {
        "colab": {
          "base_uri": "https://localhost:8080/"
        },
        "id": "3YPd8VmMVadi",
        "outputId": "c6a8473c-ec76-4f99-f722-f63dac2140bc"
      },
      "source": [
        "result = arma.fit()"
      ],
      "execution_count": 57,
      "outputs": [
        {
          "output_type": "stream",
          "name": "stderr",
          "text": [
            "/usr/local/lib/python3.7/dist-packages/statsmodels/base/model.py:492: HessianInversionWarning: Inverting hessian failed, no bse or cov_params available\n",
            "  'available', HessianInversionWarning)\n"
          ]
        }
      ]
    },
    {
      "cell_type": "code",
      "metadata": {
        "colab": {
          "base_uri": "https://localhost:8080/"
        },
        "id": "M9VTYcMjVbXE",
        "outputId": "82bbc869-1290-4758-bb47-7276229d2a08"
      },
      "source": [
        "print(result.summary())"
      ],
      "execution_count": 58,
      "outputs": [
        {
          "output_type": "stream",
          "name": "stdout",
          "text": [
            "                              ARMA Model Results                              \n",
            "==============================================================================\n",
            "Dep. Variable:                   pred   No. Observations:                   21\n",
            "Model:                     ARMA(3, 0)   Log Likelihood                 -90.255\n",
            "Method:                       css-mle   S.D. of innovations              8.159\n",
            "Date:                Wed, 01 Sep 2021   AIC                            190.510\n",
            "Time:                        12:29:18   BIC                            195.733\n",
            "Sample:                    01-01-1905   HQIC                           191.644\n",
            "                         - 01-01-1925                                         \n",
            "==============================================================================\n",
            "                 coef    std err          z      P>|z|      [0.025      0.975]\n",
            "------------------------------------------------------------------------------\n",
            "const         41.6043        nan        nan        nan         nan         nan\n",
            "ar.L1.pred     0.8958   4.75e-06   1.88e+05      0.000       0.896       0.896\n",
            "ar.L2.pred     0.0587   3.98e-07   1.47e+05      0.000       0.059       0.059\n",
            "ar.L3.pred    -0.6743        nan        nan        nan         nan         nan\n",
            "                                    Roots                                    \n",
            "=============================================================================\n",
            "                  Real          Imaginary           Modulus         Frequency\n",
            "-----------------------------------------------------------------------------\n",
            "AR.1            0.7850           -0.6195j            1.0000           -0.1063\n",
            "AR.2            0.7850           +0.6195j            1.0000            0.1063\n",
            "AR.3           -1.4830           -0.0000j            1.4830           -0.5000\n",
            "-----------------------------------------------------------------------------\n"
          ]
        },
        {
          "output_type": "stream",
          "name": "stderr",
          "text": [
            "/usr/local/lib/python3.7/dist-packages/statsmodels/tsa/arima_model.py:1441: RuntimeWarning: invalid value encountered in sqrt\n",
            "  return np.sqrt(np.diag(-inv(hess)))\n"
          ]
        }
      ]
    },
    {
      "cell_type": "code",
      "metadata": {
        "colab": {
          "base_uri": "https://localhost:8080/"
        },
        "id": "XNO09gGEVcXP",
        "outputId": "0b801402-7f5f-4e4e-8da1-d335827000bc"
      },
      "source": [
        "result.predict(start=\"1926-01-01\", end=\"1935-01-01\")"
      ],
      "execution_count": 59,
      "outputs": [
        {
          "output_type": "execute_result",
          "data": {
            "text/plain": [
              "1926-01-01     1.760791\n",
              "1927-01-01   -10.777037\n",
              "1928-01-01     2.867297\n",
              "1929-01-01    30.697995\n",
              "1930-01-01    64.882334\n",
              "1931-01-01    87.935932\n",
              "1932-01-01    91.826108\n",
              "1933-01-01    73.613173\n",
              "1934-01-01    41.982156\n",
              "1935-01-01     9.956640\n",
              "Freq: AS-JAN, dtype: float64"
            ]
          },
          "metadata": {},
          "execution_count": 59
        }
      ]
    },
    {
      "cell_type": "code",
      "metadata": {
        "id": "ruUUp3W1VdSV"
      },
      "source": [
        "prediction = result.predict(start=\"1926-01-01\", end=\"1935-01-01\")"
      ],
      "execution_count": 60,
      "outputs": []
    },
    {
      "cell_type": "code",
      "metadata": {
        "colab": {
          "base_uri": "https://localhost:8080/"
        },
        "id": "8Nzmk26aVeXJ",
        "outputId": "55e791d9-4888-4974-d1c6-2beebe0b535f"
      },
      "source": [
        "prediction"
      ],
      "execution_count": 61,
      "outputs": [
        {
          "output_type": "execute_result",
          "data": {
            "text/plain": [
              "1926-01-01     1.760791\n",
              "1927-01-01   -10.777037\n",
              "1928-01-01     2.867297\n",
              "1929-01-01    30.697995\n",
              "1930-01-01    64.882334\n",
              "1931-01-01    87.935932\n",
              "1932-01-01    91.826108\n",
              "1933-01-01    73.613173\n",
              "1934-01-01    41.982156\n",
              "1935-01-01     9.956640\n",
              "Freq: AS-JAN, dtype: float64"
            ]
          },
          "metadata": {},
          "execution_count": 61
        }
      ]
    },
    {
      "cell_type": "code",
      "metadata": {
        "id": "nKuG0bpQVfht"
      },
      "source": [
        "df.loc[\"1926-01-01\": , \"pred\"] = prediction"
      ],
      "execution_count": 62,
      "outputs": []
    },
    {
      "cell_type": "code",
      "metadata": {
        "id": "8DKrKVOkVg7G"
      },
      "source": [
        "df"
      ],
      "execution_count": null,
      "outputs": []
    },
    {
      "cell_type": "code",
      "metadata": {
        "colab": {
          "base_uri": "https://localhost:8080/"
        },
        "id": "6Gsu-qXGViFS",
        "outputId": "2dc4f3f2-bffb-421a-e717-2912b391922a"
      },
      "source": [
        "df.loc[\"1926-01-01\": , \"hare\"] - df.loc[\"1926-01-01\": , \"pred\"] "
      ],
      "execution_count": 64,
      "outputs": [
        {
          "output_type": "execute_result",
          "data": {
            "text/plain": [
              "1926-01-01    13.239209\n",
              "1927-01-01    20.777037\n",
              "1928-01-01    -1.867297\n",
              "1929-01-01   -28.697995\n",
              "1930-01-01   -61.882334\n",
              "1931-01-01   -65.935932\n",
              "1932-01-01   -16.826108\n",
              "1933-01-01    21.386827\n",
              "1934-01-01    36.017844\n",
              "1935-01-01    10.043360\n",
              "Freq: AS-JAN, dtype: float64"
            ]
          },
          "metadata": {},
          "execution_count": 64
        }
      ]
    },
    {
      "cell_type": "code",
      "metadata": {
        "id": "MrBzn3c0VjN1"
      },
      "source": [
        "df.loc[\"1926-01-01\": , \"residual\"]=df.loc[\"1926-01-01\": , \"hare\"] - df.loc[\"1926-01-01\": , \"pred\"] "
      ],
      "execution_count": 65,
      "outputs": []
    },
    {
      "cell_type": "code",
      "metadata": {
        "colab": {
          "base_uri": "https://localhost:8080/"
        },
        "id": "xE_c11qdVkLe",
        "outputId": "8443c54e-a879-4868-a57a-6392ba37b071"
      },
      "source": [
        "mean_squared_error(df.loc[\"1926-01-01\": , \"hare\"] ,df.loc[\"1926-01-01\": , \"pred\"] )"
      ],
      "execution_count": 66,
      "outputs": [
        {
          "output_type": "execute_result",
          "data": {
            "text/plain": [
              "1174.9662467246856"
            ]
          },
          "metadata": {},
          "execution_count": 66
        }
      ]
    },
    {
      "cell_type": "code",
      "metadata": {
        "id": "yh0A1ksvVmab"
      },
      "source": [
        "import itertools"
      ],
      "execution_count": 67,
      "outputs": []
    },
    {
      "cell_type": "code",
      "metadata": {
        "colab": {
          "base_uri": "https://localhost:8080/"
        },
        "id": "ci-0v0MBXcF0",
        "outputId": "26af9772-cd51-482b-8f8a-e65fc515aa1a"
      },
      "source": [
        "p = range(1, 11)\n",
        "p"
      ],
      "execution_count": 68,
      "outputs": [
        {
          "output_type": "execute_result",
          "data": {
            "text/plain": [
              "range(1, 11)"
            ]
          },
          "metadata": {},
          "execution_count": 68
        }
      ]
    },
    {
      "cell_type": "code",
      "metadata": {
        "id": "Q9UawXuQXdij"
      },
      "source": [
        "q = [0]"
      ],
      "execution_count": 69,
      "outputs": []
    },
    {
      "cell_type": "code",
      "metadata": {
        "id": "_ZajHGgSXetZ"
      },
      "source": [
        "d = [0]"
      ],
      "execution_count": 70,
      "outputs": []
    },
    {
      "cell_type": "code",
      "metadata": {
        "colab": {
          "base_uri": "https://localhost:8080/"
        },
        "id": "v5UvSWNAXfe_",
        "outputId": "e9c018aa-d0c3-4beb-afe8-dea9eb4aeb72"
      },
      "source": [
        "itertools.product(p,d,q)"
      ],
      "execution_count": 71,
      "outputs": [
        {
          "output_type": "execute_result",
          "data": {
            "text/plain": [
              "<itertools.product at 0x7f638d7d39b0>"
            ]
          },
          "metadata": {},
          "execution_count": 71
        }
      ]
    },
    {
      "cell_type": "code",
      "metadata": {
        "colab": {
          "base_uri": "https://localhost:8080/"
        },
        "id": "OCtYOLLwXgOL",
        "outputId": "be7f25d0-9844-4f77-fc30-6d2f671dfaa5"
      },
      "source": [
        "list( itertools.product(p,d,q) )"
      ],
      "execution_count": 72,
      "outputs": [
        {
          "output_type": "execute_result",
          "data": {
            "text/plain": [
              "[(1, 0, 0),\n",
              " (2, 0, 0),\n",
              " (3, 0, 0),\n",
              " (4, 0, 0),\n",
              " (5, 0, 0),\n",
              " (6, 0, 0),\n",
              " (7, 0, 0),\n",
              " (8, 0, 0),\n",
              " (9, 0, 0),\n",
              " (10, 0, 0)]"
            ]
          },
          "metadata": {},
          "execution_count": 72
        }
      ]
    },
    {
      "cell_type": "code",
      "metadata": {
        "id": "2q3HptP9XhWg"
      },
      "source": [
        "order_list = list( itertools.product(p,d,q) )"
      ],
      "execution_count": 73,
      "outputs": []
    },
    {
      "cell_type": "code",
      "metadata": {
        "id": "0FuerR2IXn1t"
      },
      "source": [
        ""
      ],
      "execution_count": null,
      "outputs": []
    }
  ]
}